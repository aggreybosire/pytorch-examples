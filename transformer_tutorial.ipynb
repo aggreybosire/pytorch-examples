{
  "nbformat": 4,
  "nbformat_minor": 0,
  "metadata": {
    "kernelspec": {
      "name": "python3",
      "display_name": "Python 3"
    },
    "language_info": {
      "codemirror_mode": {
        "name": "ipython",
        "version": 3
      },
      "file_extension": ".py",
      "mimetype": "text/x-python",
      "name": "python",
      "nbconvert_exporter": "python",
      "pygments_lexer": "ipython3",
      "version": "3.6.8"
    },
    "colab": {
      "name": "transformer_tutorial.ipynb",
      "provenance": [],
      "collapsed_sections": []
    },
    "accelerator": "GPU"
  },
  "cells": [
    {
      "cell_type": "code",
      "metadata": {
        "id": "jPaZ-MFVhSRD",
        "colab_type": "code",
        "colab": {}
      },
      "source": [
        "%matplotlib inline"
      ],
      "execution_count": 0,
      "outputs": []
    },
    {
      "cell_type": "markdown",
      "metadata": {
        "id": "xWKMoQwHhSRD",
        "colab_type": "text"
      },
      "source": [
        "\n",
        "Sequence-to-Sequence Modeling with nn.Transformer and TorchText\n",
        "===============================================================\n",
        "\n",
        "This is a tutorial on how to train a sequence-to-sequence model\n",
        "that uses the\n",
        "`nn.Transformer <https://pytorch.org/docs/master/nn.html?highlight=nn%20transformer#torch.nn.Transformer>`__ module.\n",
        "\n",
        "PyTorch 1.2 release includes a standard transformer module based on the\n",
        "paper `Attention is All You\n",
        "Need <https://arxiv.org/pdf/1706.03762.pdf>`__. The transformer model\n",
        "has been proved to be superior in quality for many sequence-to-sequence\n",
        "problems while being more parallelizable. The ``nn.Transformer`` module\n",
        "relies entirely on an attention mechanism (another module recently\n",
        "implemented as `nn.MultiheadAttention <https://pytorch.org/docs/master/nn.html?highlight=multiheadattention#torch.nn.MultiheadAttention>`__) to draw global dependencies\n",
        "between input and output. The ``nn.Transformer`` module is now highly\n",
        "modularized such that a single component (like `nn.TransformerEncoder <https://pytorch.org/docs/master/nn.html?highlight=nn%20transformerencoder#torch.nn.TransformerEncoder>`__\n",
        "in this tutorial) can be easily adapted/composed.\n",
        "\n",
        "![](../_static/img/transformer_architecture.jpg)\n",
        "\n",
        "\n",
        "\n"
      ]
    },
    {
      "cell_type": "markdown",
      "metadata": {
        "id": "mTKWPYJFhSRD",
        "colab_type": "text"
      },
      "source": [
        "Define the model\n",
        "----------------\n",
        "\n",
        "\n"
      ]
    },
    {
      "cell_type": "markdown",
      "metadata": {
        "id": "IVUfzmqdhSRD",
        "colab_type": "text"
      },
      "source": [
        "In this tutorial, we train ``nn.TransformerEncoder`` model on a\n",
        "language modeling task. The language modeling task is to assign a\n",
        "probability for the likelihood of a given word (or a sequence of words)\n",
        "to follow a sequence of words. A sequence of tokens are passed to the embedding\n",
        "layer first, followed by a positional encoding layer to account for the order\n",
        "of the word (see the next paragraph for more details). The\n",
        "``nn.TransformerEncoder`` consists of multiple layers of\n",
        "`nn.TransformerEncoderLayer <https://pytorch.org/docs/master/nn.html?highlight=transformerencoderlayer#torch.nn.TransformerEncoderLayer>`__. Along with the input sequence, a square\n",
        "attention mask is required because the self-attention layers in\n",
        "``nn.TransformerEncoder`` are only allowed to attend the earlier positions in\n",
        "the sequence. For the language modeling task, any tokens on the future\n",
        "positions should be masked. To have the actual words, the output\n",
        "of ``nn.TransformerEncoder`` model is sent to the final Linear\n",
        "layer, which is followed by a log-Softmax function.\n",
        "\n",
        "\n"
      ]
    },
    {
      "cell_type": "code",
      "metadata": {
        "id": "IEXJFNw0hSRD",
        "colab_type": "code",
        "colab": {}
      },
      "source": [
        "import math\n",
        "import torch\n",
        "import torch.nn as nn\n",
        "import torch.nn.functional as F\n",
        "\n",
        "class TransformerModel(nn.Module):\n",
        "\n",
        "    def __init__(self, ntoken, ninp, nhead, nhid, nlayers, dropout=0.5):\n",
        "        super(TransformerModel, self).__init__()\n",
        "        from torch.nn import TransformerEncoder, TransformerEncoderLayer\n",
        "        self.model_type = 'Transformer'\n",
        "        self.src_mask = None\n",
        "        self.pos_encoder = PositionalEncoding(ninp, dropout)\n",
        "        encoder_layers = TransformerEncoderLayer(ninp, nhead, nhid, dropout)\n",
        "        self.transformer_encoder = TransformerEncoder(encoder_layers, nlayers)\n",
        "        self.encoder = nn.Embedding(ntoken, ninp)\n",
        "        self.ninp = ninp\n",
        "        self.decoder = nn.Linear(ninp, ntoken)\n",
        "\n",
        "        self.init_weights()\n",
        "\n",
        "    def _generate_square_subsequent_mask(self, sz):\n",
        "        mask = (torch.triu(torch.ones(sz, sz)) == 1).transpose(0, 1)\n",
        "        mask = mask.float().masked_fill(mask == 0, float('-inf')).masked_fill(mask == 1, float(0.0))\n",
        "        return mask\n",
        "\n",
        "    def init_weights(self):\n",
        "        initrange = 0.1\n",
        "        self.encoder.weight.data.uniform_(-initrange, initrange)\n",
        "        self.decoder.bias.data.zero_()\n",
        "        self.decoder.weight.data.uniform_(-initrange, initrange)\n",
        "\n",
        "    def forward(self, src):\n",
        "        if self.src_mask is None or self.src_mask.size(0) != len(src):\n",
        "            device = src.device\n",
        "            mask = self._generate_square_subsequent_mask(len(src)).to(device)\n",
        "            self.src_mask = mask\n",
        "\n",
        "        src = self.encoder(src) * math.sqrt(self.ninp)\n",
        "        src = self.pos_encoder(src)\n",
        "        output = self.transformer_encoder(src, self.src_mask)\n",
        "        output = self.decoder(output)\n",
        "        return output"
      ],
      "execution_count": 0,
      "outputs": []
    },
    {
      "cell_type": "markdown",
      "metadata": {
        "id": "Z-KTzkw4hSRT",
        "colab_type": "text"
      },
      "source": [
        "``PositionalEncoding`` module injects some information about the\n",
        "relative or absolute position of the tokens in the sequence. The\n",
        "positional encodings have the same dimension as the embeddings so that\n",
        "the two can be summed. Here, we use ``sine`` and ``cosine`` functions of\n",
        "different frequencies.\n",
        "\n",
        "\n"
      ]
    },
    {
      "cell_type": "code",
      "metadata": {
        "id": "Ji7VJCtUhSRT",
        "colab_type": "code",
        "colab": {}
      },
      "source": [
        "class PositionalEncoding(nn.Module):\n",
        "\n",
        "    def __init__(self, d_model, dropout=0.1, max_len=5000):\n",
        "        super(PositionalEncoding, self).__init__()\n",
        "        self.dropout = nn.Dropout(p=dropout)\n",
        "\n",
        "        pe = torch.zeros(max_len, d_model)\n",
        "        position = torch.arange(0, max_len, dtype=torch.float).unsqueeze(1)\n",
        "        div_term = torch.exp(torch.arange(0, d_model, 2).float() * (-math.log(10000.0) / d_model))\n",
        "        pe[:, 0::2] = torch.sin(position * div_term)\n",
        "        pe[:, 1::2] = torch.cos(position * div_term)\n",
        "        pe = pe.unsqueeze(0).transpose(0, 1)\n",
        "        self.register_buffer('pe', pe)\n",
        "\n",
        "    def forward(self, x):\n",
        "        x = x + self.pe[:x.size(0), :]\n",
        "        return self.dropout(x)"
      ],
      "execution_count": 0,
      "outputs": []
    },
    {
      "cell_type": "markdown",
      "metadata": {
        "id": "42Sg7H-ahSRT",
        "colab_type": "text"
      },
      "source": [
        "Load and batch data\n",
        "-------------------\n",
        "\n",
        "\n"
      ]
    },
    {
      "cell_type": "markdown",
      "metadata": {
        "id": "Hl5aoRlthSRT",
        "colab_type": "text"
      },
      "source": [
        "The training process uses Wikitext-2 dataset from ``torchtext``. The\n",
        "vocab object is built based on the train dataset and is used to numericalize\n",
        "tokens into tensors. Starting from sequential data, the ``batchify()``\n",
        "function arranges the dataset into columns, trimming off any tokens remaining\n",
        "after the data has been divided into batches of size ``batch_size``.\n",
        "For instance, with the alphabet as the sequence (total length of 26)\n",
        "and a batch size of 4, we would divide the alphabet into 4 sequences of\n",
        "length 6:\n",
        "\n",
        "\\begin{align}\\begin{bmatrix}\n",
        "  \\text{A} & \\text{B} & \\text{C} & \\ldots & \\text{X} & \\text{Y} & \\text{Z}\n",
        "  \\end{bmatrix}\n",
        "  \\Rightarrow\n",
        "  \\begin{bmatrix}\n",
        "  \\begin{bmatrix}\\text{A} \\\\ \\text{B} \\\\ \\text{C} \\\\ \\text{D} \\\\ \\text{E} \\\\ \\text{F}\\end{bmatrix} &\n",
        "  \\begin{bmatrix}\\text{G} \\\\ \\text{H} \\\\ \\text{I} \\\\ \\text{J} \\\\ \\text{K} \\\\ \\text{L}\\end{bmatrix} &\n",
        "  \\begin{bmatrix}\\text{M} \\\\ \\text{N} \\\\ \\text{O} \\\\ \\text{P} \\\\ \\text{Q} \\\\ \\text{R}\\end{bmatrix} &\n",
        "  \\begin{bmatrix}\\text{S} \\\\ \\text{T} \\\\ \\text{U} \\\\ \\text{V} \\\\ \\text{W} \\\\ \\text{X}\\end{bmatrix}\n",
        "  \\end{bmatrix}\\end{align}\n",
        "\n",
        "These columns are treated as independent by the model, which means that\n",
        "the dependence of ``G`` and ``F`` can not be learned, but allows more\n",
        "efficient batch processing.\n",
        "\n",
        "\n"
      ]
    },
    {
      "cell_type": "code",
      "metadata": {
        "id": "p9-k7Y3KhSRT",
        "colab_type": "code",
        "colab": {}
      },
      "source": [
        "import torchtext\n",
        "from torchtext.data.utils import get_tokenizer\n",
        "TEXT = torchtext.data.Field(tokenize=get_tokenizer(\"spacy\"),\n",
        "                            init_token='<sos>',\n",
        "                            eos_token='<eos>',\n",
        "                            lower=True)\n",
        "train_txt, val_txt, test_txt = torchtext.datasets.WikiText2.splits(TEXT)\n",
        "TEXT.build_vocab(train_txt)\n",
        "device = torch.device(\"cuda\" if torch.cuda.is_available() else \"cpu\")\n",
        "\n",
        "def batchify(data, bsz):\n",
        "    data = TEXT.numericalize([data.examples[0].text])\n",
        "    # Divide the dataset into bsz parts.\n",
        "    nbatch = data.size(0) // bsz\n",
        "    # Trim off any extra elements that wouldn't cleanly fit (remainders).\n",
        "    data = data.narrow(0, 0, nbatch * bsz)\n",
        "    # Evenly divide the data across the bsz batches.\n",
        "    data = data.view(bsz, -1).t().contiguous()\n",
        "    return data.to(device)\n",
        "\n",
        "batch_size = 20\n",
        "eval_batch_size = 10\n",
        "train_data = batchify(train_txt, batch_size)\n",
        "val_data = batchify(val_txt, eval_batch_size)\n",
        "test_data = batchify(test_txt, eval_batch_size)"
      ],
      "execution_count": 0,
      "outputs": []
    },
    {
      "cell_type": "code",
      "metadata": {
        "id": "8-kFB6QVsZWc",
        "colab_type": "code",
        "colab": {
          "base_uri": "https://localhost:8080/",
          "height": 204
        },
        "outputId": "296a35c5-876d-47a8-be48-6f80ae40e5df"
      },
      "source": [
        "train_data[:5]"
      ],
      "execution_count": 8,
      "outputs": [
        {
          "output_type": "execute_result",
          "data": {
            "text/plain": [
              "tensor([[   14,   148,    36,     6,     8,  1851,   683,    11,     6,   296,\n",
              "         25714, 17163,   256,    19,   326,     5,  2670,    22,     4,    22],\n",
              "        [    3,    22, 10588,     3,    10,   973,    18,  2069,  2165,     7,\n",
              "             7,    37,  9283,   686,    12,  3692,  5020,    40,  3188,     4],\n",
              "        [   14,   674,     7,    14,     9,     6,  2642,   483,  9818,    41,\n",
              "           598,   338,     8, 13145,    15,   611,    28,  1463,    78,   375],\n",
              "        [   16,   158,   302,    20,    28,    26,   628,    27,    25,   476,\n",
              "             5,    15,    10, 10155, 13908,    83, 14646,    13,    37,    18],\n",
              "        [ 3876,   550,  1943, 23160,   554,     4,    11,   659,    15,     6,\n",
              "            62,   242,     9,  1870,   666,    22, 16025,   659,  1395,     4]],\n",
              "       device='cuda:0')"
            ]
          },
          "metadata": {
            "tags": []
          },
          "execution_count": 8
        }
      ]
    },
    {
      "cell_type": "markdown",
      "metadata": {
        "id": "L4NjREoQhSRi",
        "colab_type": "text"
      },
      "source": [
        "Functions to generate input and target sequence\n",
        "~~~~~~~~~~~~~~~~~~~~~~~~~~~~~~~~~~~~~~~~~~~~~~~~~\n",
        "\n",
        "\n"
      ]
    },
    {
      "cell_type": "markdown",
      "metadata": {
        "id": "JtqzBBBGhSRi",
        "colab_type": "text"
      },
      "source": [
        "``get_batch()`` function generates the input and target sequence for\n",
        "the transformer model. It subdivides the source data into chunks of\n",
        "length ``bptt``. For the language modeling task, the model needs the\n",
        "following words as ``Target``. For example, with a ``bptt`` value of 2,\n",
        "we’d get the following two Variables for ``i`` = 0:\n",
        "\n",
        "![](../_static/img/transformer_input_target.png)\n",
        "\n",
        "\n",
        "It should be noted that the chunks are along dimension 0, consistent\n",
        "with the ``S`` dimension in the Transformer model. The batch dimension\n",
        "``N`` is along dimension 1.\n",
        "\n",
        "\n"
      ]
    },
    {
      "cell_type": "code",
      "metadata": {
        "id": "FfPQwKk6hSRi",
        "colab_type": "code",
        "colab": {}
      },
      "source": [
        "bptt = 35\n",
        "def get_batch(source, i):\n",
        "    seq_len = min(bptt, len(source) - 1 - i)\n",
        "    data = source[i:i+seq_len]\n",
        "    target = source[i+1:i+1+seq_len].view(-1)\n",
        "    return data, target"
      ],
      "execution_count": 0,
      "outputs": []
    },
    {
      "cell_type": "code",
      "metadata": {
        "id": "rKgUCk0tA_fR",
        "colab_type": "code",
        "colab": {
          "base_uri": "https://localhost:8080/",
          "height": 323
        },
        "outputId": "c4824a67-8d61-44c7-93af-6c72852ad760"
      },
      "source": [
        "tt = get_batch(train_data[:5], 0)\n",
        "tt"
      ],
      "execution_count": 23,
      "outputs": [
        {
          "output_type": "execute_result",
          "data": {
            "text/plain": [
              "(tensor([[   14,   148,    36,     6,     8,  1851,   683,    11,     6,   296,\n",
              "          25714, 17163,   256,    19,   326,     5,  2670,    22,     4,    22],\n",
              "         [    3,    22, 10588,     3,    10,   973,    18,  2069,  2165,     7,\n",
              "              7,    37,  9283,   686,    12,  3692,  5020,    40,  3188,     4],\n",
              "         [   14,   674,     7,    14,     9,     6,  2642,   483,  9818,    41,\n",
              "            598,   338,     8, 13145,    15,   611,    28,  1463,    78,   375],\n",
              "         [   16,   158,   302,    20,    28,    26,   628,    27,    25,   476,\n",
              "              5,    15,    10, 10155, 13908,    83, 14646,    13,    37,    18]],\n",
              "        device='cuda:0'),\n",
              " tensor([    3,    22, 10588,     3,    10,   973,    18,  2069,  2165,     7,\n",
              "             7,    37,  9283,   686,    12,  3692,  5020,    40,  3188,     4,\n",
              "            14,   674,     7,    14,     9,     6,  2642,   483,  9818,    41,\n",
              "           598,   338,     8, 13145,    15,   611,    28,  1463,    78,   375,\n",
              "            16,   158,   302,    20,    28,    26,   628,    27,    25,   476,\n",
              "             5,    15,    10, 10155, 13908,    83, 14646,    13,    37,    18,\n",
              "          3876,   550,  1943, 23160,   554,     4,    11,   659,    15,     6,\n",
              "            62,   242,     9,  1870,   666,    22, 16025,   659,  1395,     4],\n",
              "        device='cuda:0'))"
            ]
          },
          "metadata": {
            "tags": []
          },
          "execution_count": 23
        }
      ]
    },
    {
      "cell_type": "markdown",
      "metadata": {
        "id": "27EtAJldhSRi",
        "colab_type": "text"
      },
      "source": [
        "Initiate an instance\n",
        "--------------------\n",
        "\n",
        "\n"
      ]
    },
    {
      "cell_type": "markdown",
      "metadata": {
        "id": "qouawK9IhSRi",
        "colab_type": "text"
      },
      "source": [
        "The model is set up with the hyperparameter below. The vocab size is\n",
        "equal to the length of the vocab object.\n",
        "\n",
        "\n"
      ]
    },
    {
      "cell_type": "code",
      "metadata": {
        "id": "6hoDSJn7hSRi",
        "colab_type": "code",
        "colab": {}
      },
      "source": [
        "ntokens = len(TEXT.vocab.stoi) # the size of vocabulary\n",
        "emsize = 200 # embedding dimension\n",
        "nhid = 200 # the dimension of the feedforward network model in nn.TransformerEncoder\n",
        "nlayers = 2 # the number of nn.TransformerEncoderLayer in nn.TransformerEncoder\n",
        "nhead = 2 # the number of heads in the multiheadattention models\n",
        "dropout = 0.2 # the dropout value\n",
        "model = TransformerModel(ntokens, emsize, nhead, nhid, nlayers, dropout).to(device)"
      ],
      "execution_count": 0,
      "outputs": []
    },
    {
      "cell_type": "markdown",
      "metadata": {
        "id": "1OA-if4bhSRy",
        "colab_type": "text"
      },
      "source": [
        "Run the model\n",
        "-------------\n",
        "\n",
        "\n"
      ]
    },
    {
      "cell_type": "markdown",
      "metadata": {
        "id": "ca4A6LYIhSRy",
        "colab_type": "text"
      },
      "source": [
        "`CrossEntropyLoss <https://pytorch.org/docs/master/nn.html?highlight=crossentropyloss#torch.nn.CrossEntropyLoss>`__\n",
        "is applied to track the loss and\n",
        "`SGD <https://pytorch.org/docs/master/optim.html?highlight=sgd#torch.optim.SGD>`__\n",
        "implements stochastic gradient descent method as the optimizer. The initial\n",
        "learning rate is set to 5.0. `StepLR <https://pytorch.org/docs/master/optim.html?highlight=steplr#torch.optim.lr_scheduler.StepLR>`__ is\n",
        "applied to adjust the learn rate through epochs. During the\n",
        "training, we use\n",
        "`nn.utils.clip_grad_norm\\_ <https://pytorch.org/docs/master/nn.html?highlight=nn%20utils%20clip_grad_norm#torch.nn.utils.clip_grad_norm_>`__\n",
        "function to scale all the gradient together to prevent exploding.\n",
        "\n",
        "\n"
      ]
    },
    {
      "cell_type": "code",
      "metadata": {
        "id": "O63pTr8vhSRy",
        "colab_type": "code",
        "colab": {}
      },
      "source": [
        "criterion = nn.CrossEntropyLoss()\n",
        "lr = 5.0 # learning rate\n",
        "optimizer = torch.optim.SGD(model.parameters(), lr=lr)\n",
        "scheduler = torch.optim.lr_scheduler.StepLR(optimizer, 1.0, gamma=0.95)\n",
        "\n",
        "import time\n",
        "def train():\n",
        "    model.train() # Turn on the train mode\n",
        "    total_loss = 0.\n",
        "    start_time = time.time()\n",
        "    ntokens = len(TEXT.vocab.stoi)\n",
        "    for batch, i in enumerate(range(0, train_data.size(0) - 1, bptt)):\n",
        "        data, targets = get_batch(train_data, i)\n",
        "        optimizer.zero_grad()\n",
        "        output = model(data)\n",
        "        loss = criterion(output.view(-1, ntokens), targets)\n",
        "        loss.backward()\n",
        "        torch.nn.utils.clip_grad_norm_(model.parameters(), 0.5)\n",
        "        optimizer.step()\n",
        "\n",
        "        total_loss += loss.item()\n",
        "        log_interval = 200\n",
        "        if batch % log_interval == 0 and batch > 0:\n",
        "            cur_loss = total_loss / log_interval\n",
        "            elapsed = time.time() - start_time\n",
        "            print('| epoch {:3d} | {:5d}/{:5d} batches | '\n",
        "                  'lr {:02.2f} | ms/batch {:5.2f} | '\n",
        "                  'loss {:5.2f} | ppl {:8.2f}'.format(\n",
        "                    epoch, batch, len(train_data) // bptt, scheduler.get_lr()[0],\n",
        "                    elapsed * 1000 / log_interval,\n",
        "                    cur_loss, math.exp(cur_loss)))\n",
        "            total_loss = 0\n",
        "            start_time = time.time()\n",
        "\n",
        "def evaluate(eval_model, data_source):\n",
        "    eval_model.eval() # Turn on the evaluation mode\n",
        "    total_loss = 0.\n",
        "    ntokens = len(TEXT.vocab.stoi)\n",
        "    with torch.no_grad():\n",
        "        for i in range(0, data_source.size(0) - 1, bptt):\n",
        "            data, targets = get_batch(data_source, i)\n",
        "            output = eval_model(data)\n",
        "            output_flat = output.view(-1, ntokens)\n",
        "            total_loss += len(data) * criterion(output_flat, targets).item()\n",
        "    return total_loss / (len(data_source) - 1)"
      ],
      "execution_count": 0,
      "outputs": []
    },
    {
      "cell_type": "markdown",
      "metadata": {
        "id": "X9P1t_5ChSRy",
        "colab_type": "text"
      },
      "source": [
        "Loop over epochs. Save the model if the validation loss is the best\n",
        "we've seen so far. Adjust the learning rate after each epoch.\n",
        "\n"
      ]
    },
    {
      "cell_type": "code",
      "metadata": {
        "id": "YoBBl8U4hSRy",
        "colab_type": "code",
        "colab": {
          "base_uri": "https://localhost:8080/",
          "height": 935
        },
        "outputId": "aa3d905d-4852-4464-e106-a23dfcc4c277"
      },
      "source": [
        "best_val_loss = float(\"inf\")\n",
        "epochs = 3 # The number of epochs\n",
        "best_model = None\n",
        "\n",
        "for epoch in range(1, epochs + 1):\n",
        "    epoch_start_time = time.time()\n",
        "    train()\n",
        "    val_loss = evaluate(model, val_data)\n",
        "    print('-' * 89)\n",
        "    print('| end of epoch {:3d} | time: {:5.2f}s | valid loss {:5.2f} | '\n",
        "          'valid ppl {:8.2f}'.format(epoch, (time.time() - epoch_start_time),\n",
        "                                     val_loss, math.exp(val_loss)))\n",
        "    print('-' * 89)\n",
        "\n",
        "    if val_loss < best_val_loss:\n",
        "        best_val_loss = val_loss\n",
        "        best_model = model\n",
        "\n",
        "    scheduler.step()"
      ],
      "execution_count": 12,
      "outputs": [
        {
          "output_type": "stream",
          "text": [
            "| epoch   1 |   200/ 3195 batches | lr 5.00 | ms/batch 39.19 | loss  7.42 | ppl  1669.94\n",
            "| epoch   1 |   400/ 3195 batches | lr 5.00 | ms/batch 37.43 | loss  6.28 | ppl   535.08\n",
            "| epoch   1 |   600/ 3195 batches | lr 5.00 | ms/batch 37.84 | loss  5.98 | ppl   393.55\n",
            "| epoch   1 |   800/ 3195 batches | lr 5.00 | ms/batch 37.21 | loss  5.80 | ppl   329.03\n",
            "| epoch   1 |  1000/ 3195 batches | lr 5.00 | ms/batch 37.42 | loss  5.82 | ppl   336.47\n",
            "| epoch   1 |  1200/ 3195 batches | lr 5.00 | ms/batch 37.56 | loss  5.75 | ppl   314.73\n",
            "| epoch   1 |  1400/ 3195 batches | lr 5.00 | ms/batch 37.55 | loss  5.71 | ppl   302.64\n",
            "| epoch   1 |  1600/ 3195 batches | lr 5.00 | ms/batch 37.43 | loss  5.61 | ppl   272.46\n",
            "| epoch   1 |  1800/ 3195 batches | lr 5.00 | ms/batch 37.60 | loss  5.63 | ppl   279.16\n",
            "| epoch   1 |  2000/ 3195 batches | lr 5.00 | ms/batch 37.41 | loss  5.64 | ppl   281.09\n",
            "| epoch   1 |  2200/ 3195 batches | lr 5.00 | ms/batch 37.47 | loss  5.58 | ppl   264.08\n",
            "| epoch   1 |  2400/ 3195 batches | lr 5.00 | ms/batch 37.66 | loss  5.46 | ppl   234.92\n",
            "| epoch   1 |  2600/ 3195 batches | lr 5.00 | ms/batch 37.60 | loss  5.54 | ppl   254.94\n",
            "| epoch   1 |  2800/ 3195 batches | lr 5.00 | ms/batch 37.77 | loss  5.51 | ppl   248.22\n",
            "| epoch   1 |  3000/ 3195 batches | lr 5.00 | ms/batch 37.67 | loss  5.42 | ppl   224.76\n",
            "-----------------------------------------------------------------------------------------\n",
            "| end of epoch   1 | time: 125.23s | valid loss  5.15 | valid ppl   172.96\n",
            "-----------------------------------------------------------------------------------------\n",
            "| epoch   2 |   200/ 3195 batches | lr 4.75 | ms/batch 38.03 | loss  5.38 | ppl   216.89\n",
            "| epoch   2 |   400/ 3195 batches | lr 4.75 | ms/batch 38.56 | loss  5.37 | ppl   214.86\n",
            "| epoch   2 |   600/ 3195 batches | lr 4.75 | ms/batch 38.59 | loss  5.27 | ppl   193.81\n",
            "| epoch   2 |   800/ 3195 batches | lr 4.75 | ms/batch 38.55 | loss  5.24 | ppl   188.07\n",
            "| epoch   2 |  1000/ 3195 batches | lr 4.75 | ms/batch 38.51 | loss  5.32 | ppl   204.01\n",
            "| epoch   2 |  1200/ 3195 batches | lr 4.75 | ms/batch 38.55 | loss  5.29 | ppl   198.32\n",
            "| epoch   2 |  1400/ 3195 batches | lr 4.75 | ms/batch 38.57 | loss  5.31 | ppl   202.26\n",
            "| epoch   2 |  1600/ 3195 batches | lr 4.75 | ms/batch 38.47 | loss  5.23 | ppl   186.04\n",
            "| epoch   2 |  1800/ 3195 batches | lr 4.75 | ms/batch 38.47 | loss  5.28 | ppl   195.70\n",
            "| epoch   2 |  2000/ 3195 batches | lr 4.75 | ms/batch 38.07 | loss  5.29 | ppl   199.25\n",
            "| epoch   2 |  2200/ 3195 batches | lr 4.75 | ms/batch 38.35 | loss  5.25 | ppl   189.93\n",
            "| epoch   2 |  2400/ 3195 batches | lr 4.75 | ms/batch 38.59 | loss  5.15 | ppl   172.50\n",
            "| epoch   2 |  2600/ 3195 batches | lr 4.75 | ms/batch 38.50 | loss  5.24 | ppl   188.64\n",
            "| epoch   2 |  2800/ 3195 batches | lr 4.75 | ms/batch 38.45 | loss  5.23 | ppl   186.32\n",
            "| epoch   2 |  3000/ 3195 batches | lr 4.75 | ms/batch 38.48 | loss  5.15 | ppl   172.38\n",
            "-----------------------------------------------------------------------------------------\n",
            "| end of epoch   2 | time: 127.96s | valid loss  5.06 | valid ppl   157.09\n",
            "-----------------------------------------------------------------------------------------\n",
            "| epoch   3 |   200/ 3195 batches | lr 4.51 | ms/batch 38.70 | loss  5.15 | ppl   172.56\n",
            "| epoch   3 |   400/ 3195 batches | lr 4.51 | ms/batch 37.90 | loss  5.15 | ppl   172.79\n",
            "| epoch   3 |   600/ 3195 batches | lr 4.51 | ms/batch 37.95 | loss  5.05 | ppl   155.75\n",
            "| epoch   3 |   800/ 3195 batches | lr 4.51 | ms/batch 38.36 | loss  5.02 | ppl   151.12\n",
            "| epoch   3 |  1000/ 3195 batches | lr 4.51 | ms/batch 38.86 | loss  5.12 | ppl   167.35\n",
            "| epoch   3 |  1200/ 3195 batches | lr 4.51 | ms/batch 38.94 | loss  5.08 | ppl   161.28\n",
            "| epoch   3 |  1400/ 3195 batches | lr 4.51 | ms/batch 38.91 | loss  5.12 | ppl   167.50\n",
            "| epoch   3 |  1600/ 3195 batches | lr 4.51 | ms/batch 38.96 | loss  5.05 | ppl   156.53\n",
            "| epoch   3 |  1800/ 3195 batches | lr 4.51 | ms/batch 39.03 | loss  5.09 | ppl   161.96\n",
            "| epoch   3 |  2000/ 3195 batches | lr 4.51 | ms/batch 38.79 | loss  5.12 | ppl   167.47\n",
            "| epoch   3 |  2200/ 3195 batches | lr 4.51 | ms/batch 38.67 | loss  5.07 | ppl   159.32\n",
            "| epoch   3 |  2400/ 3195 batches | lr 4.51 | ms/batch 38.09 | loss  4.96 | ppl   142.72\n",
            "| epoch   3 |  2600/ 3195 batches | lr 4.51 | ms/batch 38.34 | loss  5.07 | ppl   159.33\n",
            "| epoch   3 |  2800/ 3195 batches | lr 4.51 | ms/batch 37.89 | loss  5.06 | ppl   158.24\n",
            "| epoch   3 |  3000/ 3195 batches | lr 4.51 | ms/batch 37.89 | loss  4.98 | ppl   145.84\n",
            "-----------------------------------------------------------------------------------------\n",
            "| end of epoch   3 | time: 127.79s | valid loss  4.95 | valid ppl   141.26\n",
            "-----------------------------------------------------------------------------------------\n"
          ],
          "name": "stdout"
        }
      ]
    },
    {
      "cell_type": "markdown",
      "metadata": {
        "id": "y6R_qadHhSSC",
        "colab_type": "text"
      },
      "source": [
        "Evaluate the model with the test dataset\n",
        "-------------------------------------\n",
        "\n",
        "Apply the best model to check the result with the test dataset.\n",
        "\n"
      ]
    },
    {
      "cell_type": "code",
      "metadata": {
        "id": "TNZSNiMhhSSC",
        "colab_type": "code",
        "colab": {
          "base_uri": "https://localhost:8080/",
          "height": 68
        },
        "outputId": "f8cb111d-9479-4b99-8e4c-f791789bf6a5"
      },
      "source": [
        "test_loss = evaluate(best_model, test_data)\n",
        "print('=' * 89)\n",
        "print('| End of training | test loss {:5.2f} | test ppl {:8.2f}'.format(\n",
        "    test_loss, math.exp(test_loss)))\n",
        "print('=' * 89)"
      ],
      "execution_count": 13,
      "outputs": [
        {
          "output_type": "stream",
          "text": [
            "=========================================================================================\n",
            "| End of training | test loss  4.80 | test ppl   121.01\n",
            "=========================================================================================\n"
          ],
          "name": "stdout"
        }
      ]
    },
    {
      "cell_type": "code",
      "metadata": {
        "id": "QuKkjHBVx_MX",
        "colab_type": "code",
        "colab": {
          "base_uri": "https://localhost:8080/",
          "height": 867
        },
        "outputId": "82e7d341-32de-48e4-cbaa-2ba2c0ed2d97"
      },
      "source": [
        "transformer_model = nn.Transformer(nhead=16, num_encoder_layers=12)\n",
        "src = torch.rand((10, 32, 512))\n",
        "tgt = torch.rand((20, 32, 512))\n",
        "out = transformer_model(src, tgt)\n",
        "out"
      ],
      "execution_count": 18,
      "outputs": [
        {
          "output_type": "execute_result",
          "data": {
            "text/plain": [
              "tensor([[[ 0.9727, -0.0092,  0.0754,  ..., -1.4173,  0.7231, -0.3412],\n",
              "         [ 1.2052, -0.0167, -0.3814,  ..., -0.7172,  0.0398, -1.3351],\n",
              "         [ 0.9443,  0.5911, -0.4787,  ..., -1.7474,  0.4975, -0.2826],\n",
              "         ...,\n",
              "         [ 1.8374,  0.3283,  0.1729,  ..., -0.7296, -0.4210,  0.0515],\n",
              "         [ 1.2001, -0.5780, -0.2942,  ..., -1.3636, -0.0345,  0.0580],\n",
              "         [ 1.5560,  0.4974, -0.1049,  ..., -0.2685,  0.4665, -0.2782]],\n",
              "\n",
              "        [[ 1.6193, -0.4940,  0.4242,  ..., -1.5622,  0.3561, -0.1260],\n",
              "         [ 1.3376,  0.6471, -0.1138,  ..., -0.8905,  0.7503, -0.2634],\n",
              "         [ 1.0754,  0.2965, -0.0994,  ..., -2.4587,  0.6445, -0.5313],\n",
              "         ...,\n",
              "         [ 1.4668, -0.4338,  0.2882,  ..., -0.5345,  0.2488, -0.2600],\n",
              "         [ 1.7552, -1.0022,  0.1077,  ..., -0.3175,  0.6895, -0.3061],\n",
              "         [ 1.3309, -0.1637, -0.4321,  ..., -1.4472,  0.7735, -0.1152]],\n",
              "\n",
              "        [[ 2.2878, -0.1150,  0.2556,  ..., -2.7239, -0.0735, -0.5013],\n",
              "         [ 2.1175,  0.5418, -0.5685,  ..., -0.9476,  1.1017, -1.0664],\n",
              "         [ 2.7490,  0.7611, -0.3458,  ..., -2.1414,  0.4014,  0.2442],\n",
              "         ...,\n",
              "         [ 1.3259, -0.3414, -0.0234,  ..., -0.4909, -0.0218,  0.0877],\n",
              "         [ 1.6440, -0.3756, -0.5614,  ..., -1.8192,  0.1141, -1.1392],\n",
              "         [ 2.5518,  0.4602,  0.0990,  ..., -1.0383,  0.3888, -0.1912]],\n",
              "\n",
              "        ...,\n",
              "\n",
              "        [[ 1.8417, -0.4278, -0.6816,  ..., -1.9190,  0.5160, -0.6889],\n",
              "         [ 0.9099,  0.1638, -0.1281,  ..., -1.4422,  0.6323, -1.1115],\n",
              "         [ 0.8925,  0.6569, -0.5852,  ..., -1.8520, -0.0096, -0.3509],\n",
              "         ...,\n",
              "         [ 0.5932,  0.0444, -0.3121,  ..., -1.3255, -0.1293, -0.6998],\n",
              "         [ 1.2222, -0.1787, -0.8875,  ..., -1.8707, -0.1560, -0.8461],\n",
              "         [ 1.8972, -0.7450, -0.8069,  ..., -1.0563,  0.3201, -0.0646]],\n",
              "\n",
              "        [[ 2.1679, -0.4442, -0.5451,  ..., -1.8114,  1.3666,  0.4841],\n",
              "         [ 1.9934,  0.8548,  0.0208,  ..., -0.5501,  0.0575, -1.4656],\n",
              "         [ 1.8110,  0.6730, -0.2824,  ..., -1.9399, -0.0195,  0.1376],\n",
              "         ...,\n",
              "         [ 0.5743,  0.1505,  0.4859,  ..., -1.3890,  0.7487,  0.0717],\n",
              "         [ 1.6554, -0.4768,  0.1668,  ..., -0.5643,  0.5508, -0.4386],\n",
              "         [ 2.2674,  0.6542, -0.6321,  ..., -1.3821,  1.3681, -0.3107]],\n",
              "\n",
              "        [[ 2.0739, -1.3996, -0.2676,  ..., -1.8887,  0.7061, -0.3812],\n",
              "         [ 1.6646,  0.2498,  0.1239,  ...,  0.0912,  0.3248, -1.5949],\n",
              "         [ 1.6505,  0.8858, -0.6823,  ..., -0.4562,  1.0725,  0.3844],\n",
              "         ...,\n",
              "         [ 1.5171,  0.0583,  0.3166,  ..., -1.2090,  0.1591, -0.8223],\n",
              "         [ 1.4340,  0.1188, -0.7720,  ..., -1.2186,  0.1048, -0.0469],\n",
              "         [ 2.0857, -0.6495,  0.1551,  ..., -0.3807,  0.6758, -0.8438]]],\n",
              "       grad_fn=<NativeLayerNormBackward>)"
            ]
          },
          "metadata": {
            "tags": []
          },
          "execution_count": 18
        }
      ]
    },
    {
      "cell_type": "code",
      "metadata": {
        "id": "3ktynHwMy_6m",
        "colab_type": "code",
        "colab": {}
      },
      "source": [
        ""
      ],
      "execution_count": 0,
      "outputs": []
    }
  ]
}